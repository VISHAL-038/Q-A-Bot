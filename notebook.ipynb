{
 "cells": [
  {
   "cell_type": "code",
   "execution_count": 2,
   "metadata": {},
   "outputs": [
    {
     "name": "stdout",
     "output_type": "stream",
     "text": [
      "Requirement already satisfied: python-docx in c:\\vishal\\projects\\python\\q-a-bot\\myenv\\lib\\site-packages (1.1.2)\n",
      "Requirement already satisfied: lxml>=3.1.0 in c:\\vishal\\projects\\python\\q-a-bot\\myenv\\lib\\site-packages (from python-docx) (5.3.0)\n",
      "Requirement already satisfied: typing-extensions>=4.9.0 in c:\\vishal\\projects\\python\\q-a-bot\\myenv\\lib\\site-packages (from python-docx) (4.12.2)\n",
      "Note: you may need to restart the kernel to use updated packages.\n"
     ]
    },
    {
     "name": "stderr",
     "output_type": "stream",
     "text": [
      "\n",
      "[notice] A new release of pip is available: 23.2.1 -> 24.2\n",
      "[notice] To update, run: python.exe -m pip install --upgrade pip\n"
     ]
    },
    {
     "name": "stdout",
     "output_type": "stream",
     "text": [
      "Requirement already satisfied: python-pptx in c:\\vishal\\projects\\python\\q-a-bot\\myenv\\lib\\site-packages (1.0.2)\n",
      "Requirement already satisfied: Pillow>=3.3.2 in c:\\vishal\\projects\\python\\q-a-bot\\myenv\\lib\\site-packages (from python-pptx) (10.4.0)\n",
      "Requirement already satisfied: XlsxWriter>=0.5.7 in c:\\vishal\\projects\\python\\q-a-bot\\myenv\\lib\\site-packages (from python-pptx) (3.2.0)\n",
      "Requirement already satisfied: lxml>=3.1.0 in c:\\vishal\\projects\\python\\q-a-bot\\myenv\\lib\\site-packages (from python-pptx) (5.3.0)\n",
      "Requirement already satisfied: typing-extensions>=4.9.0 in c:\\vishal\\projects\\python\\q-a-bot\\myenv\\lib\\site-packages (from python-pptx) (4.12.2)\n",
      "Note: you may need to restart the kernel to use updated packages.\n"
     ]
    },
    {
     "name": "stderr",
     "output_type": "stream",
     "text": [
      "\n",
      "[notice] A new release of pip is available: 23.2.1 -> 24.2\n",
      "[notice] To update, run: python.exe -m pip install --upgrade pip\n"
     ]
    },
    {
     "name": "stdout",
     "output_type": "stream",
     "text": [
      "Requirement already satisfied: PyPDF2 in c:\\vishal\\projects\\python\\q-a-bot\\myenv\\lib\\site-packages (3.0.1)\n",
      "Note: you may need to restart the kernel to use updated packages.\n"
     ]
    },
    {
     "name": "stderr",
     "output_type": "stream",
     "text": [
      "\n",
      "[notice] A new release of pip is available: 23.2.1 -> 24.2\n",
      "[notice] To update, run: python.exe -m pip install --upgrade pip\n"
     ]
    },
    {
     "name": "stdout",
     "output_type": "stream",
     "text": [
      "Requirement already satisfied: langchain in c:\\vishal\\projects\\python\\q-a-bot\\myenv\\lib\\site-packages (0.3.0)\n",
      "Requirement already satisfied: PyYAML>=5.3 in c:\\vishal\\projects\\python\\q-a-bot\\myenv\\lib\\site-packages (from langchain) (6.0.2)\n",
      "Requirement already satisfied: SQLAlchemy<3,>=1.4 in c:\\vishal\\projects\\python\\q-a-bot\\myenv\\lib\\site-packages (from langchain) (2.0.35)\n",
      "Requirement already satisfied: aiohttp<4.0.0,>=3.8.3 in c:\\vishal\\projects\\python\\q-a-bot\\myenv\\lib\\site-packages (from langchain) (3.10.5)\n",
      "Requirement already satisfied: langchain-core<0.4.0,>=0.3.0 in c:\\vishal\\projects\\python\\q-a-bot\\myenv\\lib\\site-packages (from langchain) (0.3.5)\n",
      "Requirement already satisfied: langchain-text-splitters<0.4.0,>=0.3.0 in c:\\vishal\\projects\\python\\q-a-bot\\myenv\\lib\\site-packages (from langchain) (0.3.0)\n",
      "Requirement already satisfied: langsmith<0.2.0,>=0.1.17 in c:\\vishal\\projects\\python\\q-a-bot\\myenv\\lib\\site-packages (from langchain) (0.1.126)\n",
      "Requirement already satisfied: numpy<2.0.0,>=1.26.0 in c:\\vishal\\projects\\python\\q-a-bot\\myenv\\lib\\site-packages (from langchain) (1.26.4)\n",
      "Requirement already satisfied: pydantic<3.0.0,>=2.7.4 in c:\\vishal\\projects\\python\\q-a-bot\\myenv\\lib\\site-packages (from langchain) (2.9.2)\n",
      "Requirement already satisfied: requests<3,>=2 in c:\\vishal\\projects\\python\\q-a-bot\\myenv\\lib\\site-packages (from langchain) (2.32.3)\n",
      "Requirement already satisfied: tenacity!=8.4.0,<9.0.0,>=8.1.0 in c:\\vishal\\projects\\python\\q-a-bot\\myenv\\lib\\site-packages (from langchain) (8.5.0)\n",
      "Requirement already satisfied: aiohappyeyeballs>=2.3.0 in c:\\vishal\\projects\\python\\q-a-bot\\myenv\\lib\\site-packages (from aiohttp<4.0.0,>=3.8.3->langchain) (2.4.0)\n",
      "Requirement already satisfied: aiosignal>=1.1.2 in c:\\vishal\\projects\\python\\q-a-bot\\myenv\\lib\\site-packages (from aiohttp<4.0.0,>=3.8.3->langchain) (1.3.1)\n",
      "Requirement already satisfied: attrs>=17.3.0 in c:\\vishal\\projects\\python\\q-a-bot\\myenv\\lib\\site-packages (from aiohttp<4.0.0,>=3.8.3->langchain) (24.2.0)\n",
      "Requirement already satisfied: frozenlist>=1.1.1 in c:\\vishal\\projects\\python\\q-a-bot\\myenv\\lib\\site-packages (from aiohttp<4.0.0,>=3.8.3->langchain) (1.4.1)\n",
      "Requirement already satisfied: multidict<7.0,>=4.5 in c:\\vishal\\projects\\python\\q-a-bot\\myenv\\lib\\site-packages (from aiohttp<4.0.0,>=3.8.3->langchain) (6.1.0)\n",
      "Requirement already satisfied: yarl<2.0,>=1.0 in c:\\vishal\\projects\\python\\q-a-bot\\myenv\\lib\\site-packages (from aiohttp<4.0.0,>=3.8.3->langchain) (1.12.1)\n",
      "Requirement already satisfied: jsonpatch<2.0,>=1.33 in c:\\vishal\\projects\\python\\q-a-bot\\myenv\\lib\\site-packages (from langchain-core<0.4.0,>=0.3.0->langchain) (1.33)\n",
      "Requirement already satisfied: packaging<25,>=23.2 in c:\\vishal\\projects\\python\\q-a-bot\\myenv\\lib\\site-packages (from langchain-core<0.4.0,>=0.3.0->langchain) (24.1)\n",
      "Requirement already satisfied: typing-extensions>=4.7 in c:\\vishal\\projects\\python\\q-a-bot\\myenv\\lib\\site-packages (from langchain-core<0.4.0,>=0.3.0->langchain) (4.12.2)\n",
      "Requirement already satisfied: httpx<1,>=0.23.0 in c:\\vishal\\projects\\python\\q-a-bot\\myenv\\lib\\site-packages (from langsmith<0.2.0,>=0.1.17->langchain) (0.27.2)\n",
      "Requirement already satisfied: orjson<4.0.0,>=3.9.14 in c:\\vishal\\projects\\python\\q-a-bot\\myenv\\lib\\site-packages (from langsmith<0.2.0,>=0.1.17->langchain) (3.10.7)\n",
      "Requirement already satisfied: annotated-types>=0.6.0 in c:\\vishal\\projects\\python\\q-a-bot\\myenv\\lib\\site-packages (from pydantic<3.0.0,>=2.7.4->langchain) (0.7.0)\n",
      "Requirement already satisfied: pydantic-core==2.23.4 in c:\\vishal\\projects\\python\\q-a-bot\\myenv\\lib\\site-packages (from pydantic<3.0.0,>=2.7.4->langchain) (2.23.4)\n",
      "Requirement already satisfied: charset-normalizer<4,>=2 in c:\\vishal\\projects\\python\\q-a-bot\\myenv\\lib\\site-packages (from requests<3,>=2->langchain) (3.3.2)\n",
      "Requirement already satisfied: idna<4,>=2.5 in c:\\vishal\\projects\\python\\q-a-bot\\myenv\\lib\\site-packages (from requests<3,>=2->langchain) (3.10)\n",
      "Requirement already satisfied: urllib3<3,>=1.21.1 in c:\\vishal\\projects\\python\\q-a-bot\\myenv\\lib\\site-packages (from requests<3,>=2->langchain) (2.2.3)\n",
      "Requirement already satisfied: certifi>=2017.4.17 in c:\\vishal\\projects\\python\\q-a-bot\\myenv\\lib\\site-packages (from requests<3,>=2->langchain) (2024.8.30)\n",
      "Requirement already satisfied: greenlet!=0.4.17 in c:\\vishal\\projects\\python\\q-a-bot\\myenv\\lib\\site-packages (from SQLAlchemy<3,>=1.4->langchain) (3.1.1)\n",
      "Requirement already satisfied: anyio in c:\\vishal\\projects\\python\\q-a-bot\\myenv\\lib\\site-packages (from httpx<1,>=0.23.0->langsmith<0.2.0,>=0.1.17->langchain) (4.6.0)\n",
      "Requirement already satisfied: httpcore==1.* in c:\\vishal\\projects\\python\\q-a-bot\\myenv\\lib\\site-packages (from httpx<1,>=0.23.0->langsmith<0.2.0,>=0.1.17->langchain) (1.0.5)\n",
      "Requirement already satisfied: sniffio in c:\\vishal\\projects\\python\\q-a-bot\\myenv\\lib\\site-packages (from httpx<1,>=0.23.0->langsmith<0.2.0,>=0.1.17->langchain) (1.3.1)\n",
      "Requirement already satisfied: h11<0.15,>=0.13 in c:\\vishal\\projects\\python\\q-a-bot\\myenv\\lib\\site-packages (from httpcore==1.*->httpx<1,>=0.23.0->langsmith<0.2.0,>=0.1.17->langchain) (0.14.0)\n",
      "Requirement already satisfied: jsonpointer>=1.9 in c:\\vishal\\projects\\python\\q-a-bot\\myenv\\lib\\site-packages (from jsonpatch<2.0,>=1.33->langchain-core<0.4.0,>=0.3.0->langchain) (3.0.0)\n",
      "Note: you may need to restart the kernel to use updated packages.\n"
     ]
    },
    {
     "name": "stderr",
     "output_type": "stream",
     "text": [
      "\n",
      "[notice] A new release of pip is available: 23.2.1 -> 24.2\n",
      "[notice] To update, run: python.exe -m pip install --upgrade pip\n"
     ]
    },
    {
     "name": "stdout",
     "output_type": "stream",
     "text": [
      "Requirement already satisfied: langchain_community in c:\\vishal\\projects\\python\\q-a-bot\\myenv\\lib\\site-packages (0.3.0)\n",
      "Requirement already satisfied: PyYAML>=5.3 in c:\\vishal\\projects\\python\\q-a-bot\\myenv\\lib\\site-packages (from langchain_community) (6.0.2)\n",
      "Requirement already satisfied: SQLAlchemy<3,>=1.4 in c:\\vishal\\projects\\python\\q-a-bot\\myenv\\lib\\site-packages (from langchain_community) (2.0.35)\n",
      "Requirement already satisfied: aiohttp<4.0.0,>=3.8.3 in c:\\vishal\\projects\\python\\q-a-bot\\myenv\\lib\\site-packages (from langchain_community) (3.10.5)\n",
      "Requirement already satisfied: dataclasses-json<0.7,>=0.5.7 in c:\\vishal\\projects\\python\\q-a-bot\\myenv\\lib\\site-packages (from langchain_community) (0.6.7)\n",
      "Requirement already satisfied: langchain<0.4.0,>=0.3.0 in c:\\vishal\\projects\\python\\q-a-bot\\myenv\\lib\\site-packages (from langchain_community) (0.3.0)\n",
      "Requirement already satisfied: langchain-core<0.4.0,>=0.3.0 in c:\\vishal\\projects\\python\\q-a-bot\\myenv\\lib\\site-packages (from langchain_community) (0.3.5)\n",
      "Requirement already satisfied: langsmith<0.2.0,>=0.1.112 in c:\\vishal\\projects\\python\\q-a-bot\\myenv\\lib\\site-packages (from langchain_community) (0.1.126)\n",
      "Requirement already satisfied: numpy<2.0.0,>=1.26.0 in c:\\vishal\\projects\\python\\q-a-bot\\myenv\\lib\\site-packages (from langchain_community) (1.26.4)\n",
      "Requirement already satisfied: pydantic-settings<3.0.0,>=2.4.0 in c:\\vishal\\projects\\python\\q-a-bot\\myenv\\lib\\site-packages (from langchain_community) (2.5.2)\n",
      "Requirement already satisfied: requests<3,>=2 in c:\\vishal\\projects\\python\\q-a-bot\\myenv\\lib\\site-packages (from langchain_community) (2.32.3)\n",
      "Requirement already satisfied: tenacity!=8.4.0,<9.0.0,>=8.1.0 in c:\\vishal\\projects\\python\\q-a-bot\\myenv\\lib\\site-packages (from langchain_community) (8.5.0)\n",
      "Requirement already satisfied: aiohappyeyeballs>=2.3.0 in c:\\vishal\\projects\\python\\q-a-bot\\myenv\\lib\\site-packages (from aiohttp<4.0.0,>=3.8.3->langchain_community) (2.4.0)\n",
      "Requirement already satisfied: aiosignal>=1.1.2 in c:\\vishal\\projects\\python\\q-a-bot\\myenv\\lib\\site-packages (from aiohttp<4.0.0,>=3.8.3->langchain_community) (1.3.1)\n",
      "Requirement already satisfied: attrs>=17.3.0 in c:\\vishal\\projects\\python\\q-a-bot\\myenv\\lib\\site-packages (from aiohttp<4.0.0,>=3.8.3->langchain_community) (24.2.0)\n",
      "Requirement already satisfied: frozenlist>=1.1.1 in c:\\vishal\\projects\\python\\q-a-bot\\myenv\\lib\\site-packages (from aiohttp<4.0.0,>=3.8.3->langchain_community) (1.4.1)\n",
      "Requirement already satisfied: multidict<7.0,>=4.5 in c:\\vishal\\projects\\python\\q-a-bot\\myenv\\lib\\site-packages (from aiohttp<4.0.0,>=3.8.3->langchain_community) (6.1.0)\n",
      "Requirement already satisfied: yarl<2.0,>=1.0 in c:\\vishal\\projects\\python\\q-a-bot\\myenv\\lib\\site-packages (from aiohttp<4.0.0,>=3.8.3->langchain_community) (1.12.1)\n",
      "Requirement already satisfied: marshmallow<4.0.0,>=3.18.0 in c:\\vishal\\projects\\python\\q-a-bot\\myenv\\lib\\site-packages (from dataclasses-json<0.7,>=0.5.7->langchain_community) (3.22.0)\n",
      "Requirement already satisfied: typing-inspect<1,>=0.4.0 in c:\\vishal\\projects\\python\\q-a-bot\\myenv\\lib\\site-packages (from dataclasses-json<0.7,>=0.5.7->langchain_community) (0.9.0)\n",
      "Requirement already satisfied: langchain-text-splitters<0.4.0,>=0.3.0 in c:\\vishal\\projects\\python\\q-a-bot\\myenv\\lib\\site-packages (from langchain<0.4.0,>=0.3.0->langchain_community) (0.3.0)\n",
      "Requirement already satisfied: pydantic<3.0.0,>=2.7.4 in c:\\vishal\\projects\\python\\q-a-bot\\myenv\\lib\\site-packages (from langchain<0.4.0,>=0.3.0->langchain_community) (2.9.2)\n",
      "Requirement already satisfied: jsonpatch<2.0,>=1.33 in c:\\vishal\\projects\\python\\q-a-bot\\myenv\\lib\\site-packages (from langchain-core<0.4.0,>=0.3.0->langchain_community) (1.33)\n",
      "Requirement already satisfied: packaging<25,>=23.2 in c:\\vishal\\projects\\python\\q-a-bot\\myenv\\lib\\site-packages (from langchain-core<0.4.0,>=0.3.0->langchain_community) (24.1)\n",
      "Requirement already satisfied: typing-extensions>=4.7 in c:\\vishal\\projects\\python\\q-a-bot\\myenv\\lib\\site-packages (from langchain-core<0.4.0,>=0.3.0->langchain_community) (4.12.2)\n",
      "Requirement already satisfied: httpx<1,>=0.23.0 in c:\\vishal\\projects\\python\\q-a-bot\\myenv\\lib\\site-packages (from langsmith<0.2.0,>=0.1.112->langchain_community) (0.27.2)\n",
      "Requirement already satisfied: orjson<4.0.0,>=3.9.14 in c:\\vishal\\projects\\python\\q-a-bot\\myenv\\lib\\site-packages (from langsmith<0.2.0,>=0.1.112->langchain_community) (3.10.7)\n",
      "Requirement already satisfied: python-dotenv>=0.21.0 in c:\\vishal\\projects\\python\\q-a-bot\\myenv\\lib\\site-packages (from pydantic-settings<3.0.0,>=2.4.0->langchain_community) (1.0.1)\n",
      "Requirement already satisfied: charset-normalizer<4,>=2 in c:\\vishal\\projects\\python\\q-a-bot\\myenv\\lib\\site-packages (from requests<3,>=2->langchain_community) (3.3.2)\n",
      "Requirement already satisfied: idna<4,>=2.5 in c:\\vishal\\projects\\python\\q-a-bot\\myenv\\lib\\site-packages (from requests<3,>=2->langchain_community) (3.10)\n",
      "Requirement already satisfied: urllib3<3,>=1.21.1 in c:\\vishal\\projects\\python\\q-a-bot\\myenv\\lib\\site-packages (from requests<3,>=2->langchain_community) (2.2.3)\n",
      "Requirement already satisfied: certifi>=2017.4.17 in c:\\vishal\\projects\\python\\q-a-bot\\myenv\\lib\\site-packages (from requests<3,>=2->langchain_community) (2024.8.30)\n",
      "Requirement already satisfied: greenlet!=0.4.17 in c:\\vishal\\projects\\python\\q-a-bot\\myenv\\lib\\site-packages (from SQLAlchemy<3,>=1.4->langchain_community) (3.1.1)\n",
      "Requirement already satisfied: anyio in c:\\vishal\\projects\\python\\q-a-bot\\myenv\\lib\\site-packages (from httpx<1,>=0.23.0->langsmith<0.2.0,>=0.1.112->langchain_community) (4.6.0)\n",
      "Requirement already satisfied: httpcore==1.* in c:\\vishal\\projects\\python\\q-a-bot\\myenv\\lib\\site-packages (from httpx<1,>=0.23.0->langsmith<0.2.0,>=0.1.112->langchain_community) (1.0.5)\n",
      "Requirement already satisfied: sniffio in c:\\vishal\\projects\\python\\q-a-bot\\myenv\\lib\\site-packages (from httpx<1,>=0.23.0->langsmith<0.2.0,>=0.1.112->langchain_community) (1.3.1)\n",
      "Requirement already satisfied: h11<0.15,>=0.13 in c:\\vishal\\projects\\python\\q-a-bot\\myenv\\lib\\site-packages (from httpcore==1.*->httpx<1,>=0.23.0->langsmith<0.2.0,>=0.1.112->langchain_community) (0.14.0)\n",
      "Requirement already satisfied: jsonpointer>=1.9 in c:\\vishal\\projects\\python\\q-a-bot\\myenv\\lib\\site-packages (from jsonpatch<2.0,>=1.33->langchain-core<0.4.0,>=0.3.0->langchain_community) (3.0.0)\n",
      "Requirement already satisfied: annotated-types>=0.6.0 in c:\\vishal\\projects\\python\\q-a-bot\\myenv\\lib\\site-packages (from pydantic<3.0.0,>=2.7.4->langchain<0.4.0,>=0.3.0->langchain_community) (0.7.0)\n",
      "Requirement already satisfied: pydantic-core==2.23.4 in c:\\vishal\\projects\\python\\q-a-bot\\myenv\\lib\\site-packages (from pydantic<3.0.0,>=2.7.4->langchain<0.4.0,>=0.3.0->langchain_community) (2.23.4)\n",
      "Requirement already satisfied: mypy-extensions>=0.3.0 in c:\\vishal\\projects\\python\\q-a-bot\\myenv\\lib\\site-packages (from typing-inspect<1,>=0.4.0->dataclasses-json<0.7,>=0.5.7->langchain_community) (1.0.0)\n",
      "Note: you may need to restart the kernel to use updated packages.\n"
     ]
    },
    {
     "name": "stderr",
     "output_type": "stream",
     "text": [
      "\n",
      "[notice] A new release of pip is available: 23.2.1 -> 24.2\n",
      "[notice] To update, run: python.exe -m pip install --upgrade pip\n"
     ]
    },
    {
     "name": "stdout",
     "output_type": "stream",
     "text": [
      "Requirement already satisfied: langchain_google_genai in c:\\vishal\\projects\\python\\q-a-bot\\myenv\\lib\\site-packages (2.0.0)\n",
      "Requirement already satisfied: google-generativeai<0.8.0,>=0.7.0 in c:\\vishal\\projects\\python\\q-a-bot\\myenv\\lib\\site-packages (from langchain_google_genai) (0.7.2)\n",
      "Requirement already satisfied: langchain-core<0.4,>=0.3.0 in c:\\vishal\\projects\\python\\q-a-bot\\myenv\\lib\\site-packages (from langchain_google_genai) (0.3.5)\n",
      "Requirement already satisfied: pydantic<3,>=2 in c:\\vishal\\projects\\python\\q-a-bot\\myenv\\lib\\site-packages (from langchain_google_genai) (2.9.2)\n",
      "Requirement already satisfied: google-ai-generativelanguage==0.6.6 in c:\\vishal\\projects\\python\\q-a-bot\\myenv\\lib\\site-packages (from google-generativeai<0.8.0,>=0.7.0->langchain_google_genai) (0.6.6)\n",
      "Requirement already satisfied: google-api-core in c:\\vishal\\projects\\python\\q-a-bot\\myenv\\lib\\site-packages (from google-generativeai<0.8.0,>=0.7.0->langchain_google_genai) (2.20.0)\n",
      "Requirement already satisfied: google-api-python-client in c:\\vishal\\projects\\python\\q-a-bot\\myenv\\lib\\site-packages (from google-generativeai<0.8.0,>=0.7.0->langchain_google_genai) (2.146.0)\n",
      "Requirement already satisfied: google-auth>=2.15.0 in c:\\vishal\\projects\\python\\q-a-bot\\myenv\\lib\\site-packages (from google-generativeai<0.8.0,>=0.7.0->langchain_google_genai) (2.35.0)\n",
      "Requirement already satisfied: protobuf in c:\\vishal\\projects\\python\\q-a-bot\\myenv\\lib\\site-packages (from google-generativeai<0.8.0,>=0.7.0->langchain_google_genai) (4.25.5)\n",
      "Requirement already satisfied: tqdm in c:\\vishal\\projects\\python\\q-a-bot\\myenv\\lib\\site-packages (from google-generativeai<0.8.0,>=0.7.0->langchain_google_genai) (4.66.5)\n",
      "Requirement already satisfied: typing-extensions in c:\\vishal\\projects\\python\\q-a-bot\\myenv\\lib\\site-packages (from google-generativeai<0.8.0,>=0.7.0->langchain_google_genai) (4.12.2)\n",
      "Requirement already satisfied: proto-plus<2.0.0dev,>=1.22.3 in c:\\vishal\\projects\\python\\q-a-bot\\myenv\\lib\\site-packages (from google-ai-generativelanguage==0.6.6->google-generativeai<0.8.0,>=0.7.0->langchain_google_genai) (1.24.0)\n",
      "Requirement already satisfied: PyYAML>=5.3 in c:\\vishal\\projects\\python\\q-a-bot\\myenv\\lib\\site-packages (from langchain-core<0.4,>=0.3.0->langchain_google_genai) (6.0.2)\n",
      "Requirement already satisfied: jsonpatch<2.0,>=1.33 in c:\\vishal\\projects\\python\\q-a-bot\\myenv\\lib\\site-packages (from langchain-core<0.4,>=0.3.0->langchain_google_genai) (1.33)\n",
      "Requirement already satisfied: langsmith<0.2.0,>=0.1.125 in c:\\vishal\\projects\\python\\q-a-bot\\myenv\\lib\\site-packages (from langchain-core<0.4,>=0.3.0->langchain_google_genai) (0.1.126)\n",
      "Requirement already satisfied: packaging<25,>=23.2 in c:\\vishal\\projects\\python\\q-a-bot\\myenv\\lib\\site-packages (from langchain-core<0.4,>=0.3.0->langchain_google_genai) (24.1)\n",
      "Requirement already satisfied: tenacity!=8.4.0,<9.0.0,>=8.1.0 in c:\\vishal\\projects\\python\\q-a-bot\\myenv\\lib\\site-packages (from langchain-core<0.4,>=0.3.0->langchain_google_genai) (8.5.0)\n",
      "Requirement already satisfied: annotated-types>=0.6.0 in c:\\vishal\\projects\\python\\q-a-bot\\myenv\\lib\\site-packages (from pydantic<3,>=2->langchain_google_genai) (0.7.0)\n",
      "Requirement already satisfied: pydantic-core==2.23.4 in c:\\vishal\\projects\\python\\q-a-bot\\myenv\\lib\\site-packages (from pydantic<3,>=2->langchain_google_genai) (2.23.4)\n",
      "Requirement already satisfied: cachetools<6.0,>=2.0.0 in c:\\vishal\\projects\\python\\q-a-bot\\myenv\\lib\\site-packages (from google-auth>=2.15.0->google-generativeai<0.8.0,>=0.7.0->langchain_google_genai) (5.5.0)\n",
      "Requirement already satisfied: pyasn1-modules>=0.2.1 in c:\\vishal\\projects\\python\\q-a-bot\\myenv\\lib\\site-packages (from google-auth>=2.15.0->google-generativeai<0.8.0,>=0.7.0->langchain_google_genai) (0.4.1)\n",
      "Requirement already satisfied: rsa<5,>=3.1.4 in c:\\vishal\\projects\\python\\q-a-bot\\myenv\\lib\\site-packages (from google-auth>=2.15.0->google-generativeai<0.8.0,>=0.7.0->langchain_google_genai) (4.9)\n",
      "Requirement already satisfied: jsonpointer>=1.9 in c:\\vishal\\projects\\python\\q-a-bot\\myenv\\lib\\site-packages (from jsonpatch<2.0,>=1.33->langchain-core<0.4,>=0.3.0->langchain_google_genai) (3.0.0)\n",
      "Requirement already satisfied: httpx<1,>=0.23.0 in c:\\vishal\\projects\\python\\q-a-bot\\myenv\\lib\\site-packages (from langsmith<0.2.0,>=0.1.125->langchain-core<0.4,>=0.3.0->langchain_google_genai) (0.27.2)\n",
      "Requirement already satisfied: orjson<4.0.0,>=3.9.14 in c:\\vishal\\projects\\python\\q-a-bot\\myenv\\lib\\site-packages (from langsmith<0.2.0,>=0.1.125->langchain-core<0.4,>=0.3.0->langchain_google_genai) (3.10.7)\n",
      "Requirement already satisfied: requests<3,>=2 in c:\\vishal\\projects\\python\\q-a-bot\\myenv\\lib\\site-packages (from langsmith<0.2.0,>=0.1.125->langchain-core<0.4,>=0.3.0->langchain_google_genai) (2.32.3)\n",
      "Requirement already satisfied: googleapis-common-protos<2.0.dev0,>=1.56.2 in c:\\vishal\\projects\\python\\q-a-bot\\myenv\\lib\\site-packages (from google-api-core->google-generativeai<0.8.0,>=0.7.0->langchain_google_genai) (1.65.0)\n",
      "Requirement already satisfied: httplib2<1.dev0,>=0.19.0 in c:\\vishal\\projects\\python\\q-a-bot\\myenv\\lib\\site-packages (from google-api-python-client->google-generativeai<0.8.0,>=0.7.0->langchain_google_genai) (0.22.0)\n",
      "Requirement already satisfied: google-auth-httplib2<1.0.0,>=0.2.0 in c:\\vishal\\projects\\python\\q-a-bot\\myenv\\lib\\site-packages (from google-api-python-client->google-generativeai<0.8.0,>=0.7.0->langchain_google_genai) (0.2.0)\n",
      "Requirement already satisfied: uritemplate<5,>=3.0.1 in c:\\vishal\\projects\\python\\q-a-bot\\myenv\\lib\\site-packages (from google-api-python-client->google-generativeai<0.8.0,>=0.7.0->langchain_google_genai) (4.1.1)\n",
      "Requirement already satisfied: colorama in c:\\vishal\\projects\\python\\q-a-bot\\myenv\\lib\\site-packages (from tqdm->google-generativeai<0.8.0,>=0.7.0->langchain_google_genai) (0.4.6)\n",
      "Requirement already satisfied: grpcio<2.0dev,>=1.33.2 in c:\\vishal\\projects\\python\\q-a-bot\\myenv\\lib\\site-packages (from google-api-core->google-generativeai<0.8.0,>=0.7.0->langchain_google_genai) (1.66.1)\n",
      "Requirement already satisfied: grpcio-status<2.0.dev0,>=1.33.2 in c:\\vishal\\projects\\python\\q-a-bot\\myenv\\lib\\site-packages (from google-api-core->google-generativeai<0.8.0,>=0.7.0->langchain_google_genai) (1.62.3)\n",
      "Requirement already satisfied: pyparsing!=3.0.0,!=3.0.1,!=3.0.2,!=3.0.3,<4,>=2.4.2 in c:\\vishal\\projects\\python\\q-a-bot\\myenv\\lib\\site-packages (from httplib2<1.dev0,>=0.19.0->google-api-python-client->google-generativeai<0.8.0,>=0.7.0->langchain_google_genai) (3.1.4)\n",
      "Requirement already satisfied: anyio in c:\\vishal\\projects\\python\\q-a-bot\\myenv\\lib\\site-packages (from httpx<1,>=0.23.0->langsmith<0.2.0,>=0.1.125->langchain-core<0.4,>=0.3.0->langchain_google_genai) (4.6.0)\n",
      "Requirement already satisfied: certifi in c:\\vishal\\projects\\python\\q-a-bot\\myenv\\lib\\site-packages (from httpx<1,>=0.23.0->langsmith<0.2.0,>=0.1.125->langchain-core<0.4,>=0.3.0->langchain_google_genai) (2024.8.30)\n",
      "Requirement already satisfied: httpcore==1.* in c:\\vishal\\projects\\python\\q-a-bot\\myenv\\lib\\site-packages (from httpx<1,>=0.23.0->langsmith<0.2.0,>=0.1.125->langchain-core<0.4,>=0.3.0->langchain_google_genai) (1.0.5)\n",
      "Requirement already satisfied: idna in c:\\vishal\\projects\\python\\q-a-bot\\myenv\\lib\\site-packages (from httpx<1,>=0.23.0->langsmith<0.2.0,>=0.1.125->langchain-core<0.4,>=0.3.0->langchain_google_genai) (3.10)\n",
      "Requirement already satisfied: sniffio in c:\\vishal\\projects\\python\\q-a-bot\\myenv\\lib\\site-packages (from httpx<1,>=0.23.0->langsmith<0.2.0,>=0.1.125->langchain-core<0.4,>=0.3.0->langchain_google_genai) (1.3.1)\n",
      "Requirement already satisfied: h11<0.15,>=0.13 in c:\\vishal\\projects\\python\\q-a-bot\\myenv\\lib\\site-packages (from httpcore==1.*->httpx<1,>=0.23.0->langsmith<0.2.0,>=0.1.125->langchain-core<0.4,>=0.3.0->langchain_google_genai) (0.14.0)\n",
      "Requirement already satisfied: pyasn1<0.7.0,>=0.4.6 in c:\\vishal\\projects\\python\\q-a-bot\\myenv\\lib\\site-packages (from pyasn1-modules>=0.2.1->google-auth>=2.15.0->google-generativeai<0.8.0,>=0.7.0->langchain_google_genai) (0.6.1)\n",
      "Requirement already satisfied: charset-normalizer<4,>=2 in c:\\vishal\\projects\\python\\q-a-bot\\myenv\\lib\\site-packages (from requests<3,>=2->langsmith<0.2.0,>=0.1.125->langchain-core<0.4,>=0.3.0->langchain_google_genai) (3.3.2)\n",
      "Requirement already satisfied: urllib3<3,>=1.21.1 in c:\\vishal\\projects\\python\\q-a-bot\\myenv\\lib\\site-packages (from requests<3,>=2->langsmith<0.2.0,>=0.1.125->langchain-core<0.4,>=0.3.0->langchain_google_genai) (2.2.3)\n",
      "Note: you may need to restart the kernel to use updated packages.\n"
     ]
    },
    {
     "name": "stderr",
     "output_type": "stream",
     "text": [
      "\n",
      "[notice] A new release of pip is available: 23.2.1 -> 24.2\n",
      "[notice] To update, run: python.exe -m pip install --upgrade pip\n"
     ]
    },
    {
     "name": "stdout",
     "output_type": "stream",
     "text": [
      "Requirement already satisfied: langchain_text_splitters in c:\\vishal\\projects\\python\\q-a-bot\\myenv\\lib\\site-packages (0.3.0)Note: you may need to restart the kernel to use updated packages.\n",
      "\n",
      "Requirement already satisfied: langchain-core<0.4.0,>=0.3.0 in c:\\vishal\\projects\\python\\q-a-bot\\myenv\\lib\\site-packages (from langchain_text_splitters) (0.3.5)\n",
      "Requirement already satisfied: PyYAML>=5.3 in c:\\vishal\\projects\\python\\q-a-bot\\myenv\\lib\\site-packages (from langchain-core<0.4.0,>=0.3.0->langchain_text_splitters) (6.0.2)\n",
      "Requirement already satisfied: jsonpatch<2.0,>=1.33 in c:\\vishal\\projects\\python\\q-a-bot\\myenv\\lib\\site-packages (from langchain-core<0.4.0,>=0.3.0->langchain_text_splitters) (1.33)\n",
      "Requirement already satisfied: langsmith<0.2.0,>=0.1.125 in c:\\vishal\\projects\\python\\q-a-bot\\myenv\\lib\\site-packages (from langchain-core<0.4.0,>=0.3.0->langchain_text_splitters) (0.1.126)\n",
      "Requirement already satisfied: packaging<25,>=23.2 in c:\\vishal\\projects\\python\\q-a-bot\\myenv\\lib\\site-packages (from langchain-core<0.4.0,>=0.3.0->langchain_text_splitters) (24.1)\n",
      "Requirement already satisfied: pydantic<3.0.0,>=2.5.2 in c:\\vishal\\projects\\python\\q-a-bot\\myenv\\lib\\site-packages (from langchain-core<0.4.0,>=0.3.0->langchain_text_splitters) (2.9.2)\n",
      "Requirement already satisfied: tenacity!=8.4.0,<9.0.0,>=8.1.0 in c:\\vishal\\projects\\python\\q-a-bot\\myenv\\lib\\site-packages (from langchain-core<0.4.0,>=0.3.0->langchain_text_splitters) (8.5.0)\n",
      "Requirement already satisfied: typing-extensions>=4.7 in c:\\vishal\\projects\\python\\q-a-bot\\myenv\\lib\\site-packages (from langchain-core<0.4.0,>=0.3.0->langchain_text_splitters) (4.12.2)\n",
      "Requirement already satisfied: jsonpointer>=1.9 in c:\\vishal\\projects\\python\\q-a-bot\\myenv\\lib\\site-packages (from jsonpatch<2.0,>=1.33->langchain-core<0.4.0,>=0.3.0->langchain_text_splitters) (3.0.0)\n",
      "Requirement already satisfied: httpx<1,>=0.23.0 in c:\\vishal\\projects\\python\\q-a-bot\\myenv\\lib\\site-packages (from langsmith<0.2.0,>=0.1.125->langchain-core<0.4.0,>=0.3.0->langchain_text_splitters) (0.27.2)\n",
      "Requirement already satisfied: orjson<4.0.0,>=3.9.14 in c:\\vishal\\projects\\python\\q-a-bot\\myenv\\lib\\site-packages (from langsmith<0.2.0,>=0.1.125->langchain-core<0.4.0,>=0.3.0->langchain_text_splitters) (3.10.7)\n",
      "Requirement already satisfied: requests<3,>=2 in c:\\vishal\\projects\\python\\q-a-bot\\myenv\\lib\\site-packages (from langsmith<0.2.0,>=0.1.125->langchain-core<0.4.0,>=0.3.0->langchain_text_splitters) (2.32.3)\n",
      "Requirement already satisfied: annotated-types>=0.6.0 in c:\\vishal\\projects\\python\\q-a-bot\\myenv\\lib\\site-packages (from pydantic<3.0.0,>=2.5.2->langchain-core<0.4.0,>=0.3.0->langchain_text_splitters) (0.7.0)\n",
      "Requirement already satisfied: pydantic-core==2.23.4 in c:\\vishal\\projects\\python\\q-a-bot\\myenv\\lib\\site-packages (from pydantic<3.0.0,>=2.5.2->langchain-core<0.4.0,>=0.3.0->langchain_text_splitters) (2.23.4)\n",
      "Requirement already satisfied: anyio in c:\\vishal\\projects\\python\\q-a-bot\\myenv\\lib\\site-packages (from httpx<1,>=0.23.0->langsmith<0.2.0,>=0.1.125->langchain-core<0.4.0,>=0.3.0->langchain_text_splitters) (4.6.0)\n",
      "Requirement already satisfied: certifi in c:\\vishal\\projects\\python\\q-a-bot\\myenv\\lib\\site-packages (from httpx<1,>=0.23.0->langsmith<0.2.0,>=0.1.125->langchain-core<0.4.0,>=0.3.0->langchain_text_splitters) (2024.8.30)\n",
      "Requirement already satisfied: httpcore==1.* in c:\\vishal\\projects\\python\\q-a-bot\\myenv\\lib\\site-packages (from httpx<1,>=0.23.0->langsmith<0.2.0,>=0.1.125->langchain-core<0.4.0,>=0.3.0->langchain_text_splitters) (1.0.5)\n",
      "Requirement already satisfied: idna in c:\\vishal\\projects\\python\\q-a-bot\\myenv\\lib\\site-packages (from httpx<1,>=0.23.0->langsmith<0.2.0,>=0.1.125->langchain-core<0.4.0,>=0.3.0->langchain_text_splitters) (3.10)\n",
      "Requirement already satisfied: sniffio in c:\\vishal\\projects\\python\\q-a-bot\\myenv\\lib\\site-packages (from httpx<1,>=0.23.0->langsmith<0.2.0,>=0.1.125->langchain-core<0.4.0,>=0.3.0->langchain_text_splitters) (1.3.1)\n",
      "Requirement already satisfied: h11<0.15,>=0.13 in c:\\vishal\\projects\\python\\q-a-bot\\myenv\\lib\\site-packages (from httpcore==1.*->httpx<1,>=0.23.0->langsmith<0.2.0,>=0.1.125->langchain-core<0.4.0,>=0.3.0->langchain_text_splitters) (0.14.0)\n",
      "Requirement already satisfied: charset-normalizer<4,>=2 in c:\\vishal\\projects\\python\\q-a-bot\\myenv\\lib\\site-packages (from requests<3,>=2->langsmith<0.2.0,>=0.1.125->langchain-core<0.4.0,>=0.3.0->langchain_text_splitters) (3.3.2)\n",
      "Requirement already satisfied: urllib3<3,>=1.21.1 in c:\\vishal\\projects\\python\\q-a-bot\\myenv\\lib\\site-packages (from requests<3,>=2->langsmith<0.2.0,>=0.1.125->langchain-core<0.4.0,>=0.3.0->langchain_text_splitters) (2.2.3)\n"
     ]
    },
    {
     "name": "stderr",
     "output_type": "stream",
     "text": [
      "\n",
      "[notice] A new release of pip is available: 23.2.1 -> 24.2\n",
      "[notice] To update, run: python.exe -m pip install --upgrade pip\n"
     ]
    },
    {
     "name": "stdout",
     "output_type": "stream",
     "text": [
      "Requirement already satisfied: sentence-transformers in c:\\vishal\\projects\\python\\q-a-bot\\myenv\\lib\\site-packages (3.1.1)\n",
      "Requirement already satisfied: transformers<5.0.0,>=4.38.0 in c:\\vishal\\projects\\python\\q-a-bot\\myenv\\lib\\site-packages (from sentence-transformers) (4.44.2)\n",
      "Requirement already satisfied: tqdm in c:\\vishal\\projects\\python\\q-a-bot\\myenv\\lib\\site-packages (from sentence-transformers) (4.66.5)\n",
      "Requirement already satisfied: torch>=1.11.0 in c:\\vishal\\projects\\python\\q-a-bot\\myenv\\lib\\site-packages (from sentence-transformers) (2.4.1)\n",
      "Requirement already satisfied: scikit-learn in c:\\vishal\\projects\\python\\q-a-bot\\myenv\\lib\\site-packages (from sentence-transformers) (1.5.2)\n",
      "Requirement already satisfied: scipy in c:\\vishal\\projects\\python\\q-a-bot\\myenv\\lib\\site-packages (from sentence-transformers) (1.14.1)\n",
      "Requirement already satisfied: huggingface-hub>=0.19.3 in c:\\vishal\\projects\\python\\q-a-bot\\myenv\\lib\\site-packages (from sentence-transformers) (0.25.1)\n",
      "Requirement already satisfied: Pillow in c:\\vishal\\projects\\python\\q-a-bot\\myenv\\lib\\site-packages (from sentence-transformers) (10.4.0)\n",
      "Requirement already satisfied: filelock in c:\\vishal\\projects\\python\\q-a-bot\\myenv\\lib\\site-packages (from huggingface-hub>=0.19.3->sentence-transformers) (3.16.1)\n",
      "Requirement already satisfied: fsspec>=2023.5.0 in c:\\vishal\\projects\\python\\q-a-bot\\myenv\\lib\\site-packages (from huggingface-hub>=0.19.3->sentence-transformers) (2024.9.0)\n",
      "Requirement already satisfied: packaging>=20.9 in c:\\vishal\\projects\\python\\q-a-bot\\myenv\\lib\\site-packages (from huggingface-hub>=0.19.3->sentence-transformers) (24.1)\n",
      "Requirement already satisfied: pyyaml>=5.1 in c:\\vishal\\projects\\python\\q-a-bot\\myenv\\lib\\site-packages (from huggingface-hub>=0.19.3->sentence-transformers) (6.0.2)\n",
      "Requirement already satisfied: requests in c:\\vishal\\projects\\python\\q-a-bot\\myenv\\lib\\site-packages (from huggingface-hub>=0.19.3->sentence-transformers) (2.32.3)\n",
      "Requirement already satisfied: typing-extensions>=3.7.4.3 in c:\\vishal\\projects\\python\\q-a-bot\\myenv\\lib\\site-packages (from huggingface-hub>=0.19.3->sentence-transformers) (4.12.2)\n",
      "Requirement already satisfied: sympy in c:\\vishal\\projects\\python\\q-a-bot\\myenv\\lib\\site-packages (from torch>=1.11.0->sentence-transformers) (1.13.3)\n",
      "Requirement already satisfied: networkx in c:\\vishal\\projects\\python\\q-a-bot\\myenv\\lib\\site-packages (from torch>=1.11.0->sentence-transformers) (3.3)\n",
      "Requirement already satisfied: jinja2 in c:\\vishal\\projects\\python\\q-a-bot\\myenv\\lib\\site-packages (from torch>=1.11.0->sentence-transformers) (3.1.4)\n",
      "Requirement already satisfied: setuptools in c:\\vishal\\projects\\python\\q-a-bot\\myenv\\lib\\site-packages (from torch>=1.11.0->sentence-transformers) (75.1.0)\n",
      "Requirement already satisfied: colorama in c:\\vishal\\projects\\python\\q-a-bot\\myenv\\lib\\site-packages (from tqdm->sentence-transformers) (0.4.6)\n",
      "Requirement already satisfied: numpy>=1.17 in c:\\vishal\\projects\\python\\q-a-bot\\myenv\\lib\\site-packages (from transformers<5.0.0,>=4.38.0->sentence-transformers) (1.26.4)\n",
      "Requirement already satisfied: regex!=2019.12.17 in c:\\vishal\\projects\\python\\q-a-bot\\myenv\\lib\\site-packages (from transformers<5.0.0,>=4.38.0->sentence-transformers) (2024.9.11)\n",
      "Requirement already satisfied: safetensors>=0.4.1 in c:\\vishal\\projects\\python\\q-a-bot\\myenv\\lib\\site-packages (from transformers<5.0.0,>=4.38.0->sentence-transformers) (0.4.5)\n",
      "Requirement already satisfied: tokenizers<0.20,>=0.19 in c:\\vishal\\projects\\python\\q-a-bot\\myenv\\lib\\site-packages (from transformers<5.0.0,>=4.38.0->sentence-transformers) (0.19.1)\n",
      "Requirement already satisfied: joblib>=1.2.0 in c:\\vishal\\projects\\python\\q-a-bot\\myenv\\lib\\site-packages (from scikit-learn->sentence-transformers) (1.4.2)\n",
      "Requirement already satisfied: threadpoolctl>=3.1.0 in c:\\vishal\\projects\\python\\q-a-bot\\myenv\\lib\\site-packages (from scikit-learn->sentence-transformers) (3.5.0)\n",
      "Requirement already satisfied: MarkupSafe>=2.0 in c:\\vishal\\projects\\python\\q-a-bot\\myenv\\lib\\site-packages (from jinja2->torch>=1.11.0->sentence-transformers) (2.1.5)\n",
      "Requirement already satisfied: charset-normalizer<4,>=2 in c:\\vishal\\projects\\python\\q-a-bot\\myenv\\lib\\site-packages (from requests->huggingface-hub>=0.19.3->sentence-transformers) (3.3.2)\n",
      "Requirement already satisfied: idna<4,>=2.5 in c:\\vishal\\projects\\python\\q-a-bot\\myenv\\lib\\site-packages (from requests->huggingface-hub>=0.19.3->sentence-transformers) (3.10)\n",
      "Requirement already satisfied: urllib3<3,>=1.21.1 in c:\\vishal\\projects\\python\\q-a-bot\\myenv\\lib\\site-packages (from requests->huggingface-hub>=0.19.3->sentence-transformers) (2.2.3)\n",
      "Requirement already satisfied: certifi>=2017.4.17 in c:\\vishal\\projects\\python\\q-a-bot\\myenv\\lib\\site-packages (from requests->huggingface-hub>=0.19.3->sentence-transformers) (2024.8.30)\n",
      "Requirement already satisfied: mpmath<1.4,>=1.1.0 in c:\\vishal\\projects\\python\\q-a-bot\\myenv\\lib\\site-packages (from sympy->torch>=1.11.0->sentence-transformers) (1.3.0)\n",
      "Note: you may need to restart the kernel to use updated packages.\n"
     ]
    },
    {
     "name": "stderr",
     "output_type": "stream",
     "text": [
      "\n",
      "[notice] A new release of pip is available: 23.2.1 -> 24.2\n",
      "[notice] To update, run: python.exe -m pip install --upgrade pip\n"
     ]
    },
    {
     "name": "stdout",
     "output_type": "stream",
     "text": [
      "Requirement already satisfied: faiss-cpu in c:\\vishal\\projects\\python\\q-a-bot\\myenv\\lib\\site-packages (1.8.0.post1)\n",
      "Requirement already satisfied: numpy<2.0,>=1.0 in c:\\vishal\\projects\\python\\q-a-bot\\myenv\\lib\\site-packages (from faiss-cpu) (1.26.4)\n",
      "Requirement already satisfied: packaging in c:\\vishal\\projects\\python\\q-a-bot\\myenv\\lib\\site-packages (from faiss-cpu) (24.1)\n",
      "Note: you may need to restart the kernel to use updated packages.\n"
     ]
    },
    {
     "name": "stderr",
     "output_type": "stream",
     "text": [
      "\n",
      "[notice] A new release of pip is available: 23.2.1 -> 24.2\n",
      "[notice] To update, run: python.exe -m pip install --upgrade pip\n"
     ]
    },
    {
     "name": "stdout",
     "output_type": "stream",
     "text": [
      "Requirement already satisfied: cohere in c:\\vishal\\projects\\python\\q-a-bot\\myenv\\lib\\site-packages (5.9.4)\n",
      "Requirement already satisfied: boto3<2.0.0,>=1.34.0 in c:\\vishal\\projects\\python\\q-a-bot\\myenv\\lib\\site-packages (from cohere) (1.35.25)\n",
      "Requirement already satisfied: fastavro<2.0.0,>=1.9.4 in c:\\vishal\\projects\\python\\q-a-bot\\myenv\\lib\\site-packages (from cohere) (1.9.7)\n",
      "Requirement already satisfied: httpx>=0.21.2 in c:\\vishal\\projects\\python\\q-a-bot\\myenv\\lib\\site-packages (from cohere) (0.27.2)\n",
      "Requirement already satisfied: httpx-sse==0.4.0 in c:\\vishal\\projects\\python\\q-a-bot\\myenv\\lib\\site-packages (from cohere) (0.4.0)\n",
      "Requirement already satisfied: parameterized<0.10.0,>=0.9.0 in c:\\vishal\\projects\\python\\q-a-bot\\myenv\\lib\\site-packages (from cohere) (0.9.0)\n",
      "Requirement already satisfied: pydantic>=1.9.2 in c:\\vishal\\projects\\python\\q-a-bot\\myenv\\lib\\site-packages (from cohere) (2.9.2)\n",
      "Requirement already satisfied: pydantic-core<3.0.0,>=2.18.2 in c:\\vishal\\projects\\python\\q-a-bot\\myenv\\lib\\site-packages (from cohere) (2.23.4)\n",
      "Requirement already satisfied: requests<3.0.0,>=2.0.0 in c:\\vishal\\projects\\python\\q-a-bot\\myenv\\lib\\site-packages (from cohere) (2.32.3)\n",
      "Requirement already satisfied: tokenizers<1,>=0.15 in c:\\vishal\\projects\\python\\q-a-bot\\myenv\\lib\\site-packages (from cohere) (0.19.1)\n",
      "Requirement already satisfied: types-requests<3.0.0,>=2.0.0 in c:\\vishal\\projects\\python\\q-a-bot\\myenv\\lib\\site-packages (from cohere) (2.32.0.20240914)\n",
      "Requirement already satisfied: typing_extensions>=4.0.0 in c:\\vishal\\projects\\python\\q-a-bot\\myenv\\lib\\site-packages (from cohere) (4.12.2)\n",
      "Requirement already satisfied: botocore<1.36.0,>=1.35.25 in c:\\vishal\\projects\\python\\q-a-bot\\myenv\\lib\\site-packages (from boto3<2.0.0,>=1.34.0->cohere) (1.35.25)\n",
      "Requirement already satisfied: jmespath<2.0.0,>=0.7.1 in c:\\vishal\\projects\\python\\q-a-bot\\myenv\\lib\\site-packages (from boto3<2.0.0,>=1.34.0->cohere) (1.0.1)\n",
      "Requirement already satisfied: s3transfer<0.11.0,>=0.10.0 in c:\\vishal\\projects\\python\\q-a-bot\\myenv\\lib\\site-packages (from boto3<2.0.0,>=1.34.0->cohere) (0.10.2)\n",
      "Requirement already satisfied: anyio in c:\\vishal\\projects\\python\\q-a-bot\\myenv\\lib\\site-packages (from httpx>=0.21.2->cohere) (4.6.0)\n",
      "Requirement already satisfied: certifi in c:\\vishal\\projects\\python\\q-a-bot\\myenv\\lib\\site-packages (from httpx>=0.21.2->cohere) (2024.8.30)\n",
      "Requirement already satisfied: httpcore==1.* in c:\\vishal\\projects\\python\\q-a-bot\\myenv\\lib\\site-packages (from httpx>=0.21.2->cohere) (1.0.5)\n",
      "Requirement already satisfied: idna in c:\\vishal\\projects\\python\\q-a-bot\\myenv\\lib\\site-packages (from httpx>=0.21.2->cohere) (3.10)\n",
      "Requirement already satisfied: sniffio in c:\\vishal\\projects\\python\\q-a-bot\\myenv\\lib\\site-packages (from httpx>=0.21.2->cohere) (1.3.1)\n",
      "Requirement already satisfied: h11<0.15,>=0.13 in c:\\vishal\\projects\\python\\q-a-bot\\myenv\\lib\\site-packages (from httpcore==1.*->httpx>=0.21.2->cohere) (0.14.0)\n",
      "Requirement already satisfied: annotated-types>=0.6.0 in c:\\vishal\\projects\\python\\q-a-bot\\myenv\\lib\\site-packages (from pydantic>=1.9.2->cohere) (0.7.0)\n",
      "Requirement already satisfied: charset-normalizer<4,>=2 in c:\\vishal\\projects\\python\\q-a-bot\\myenv\\lib\\site-packages (from requests<3.0.0,>=2.0.0->cohere) (3.3.2)\n",
      "Requirement already satisfied: urllib3<3,>=1.21.1 in c:\\vishal\\projects\\python\\q-a-bot\\myenv\\lib\\site-packages (from requests<3.0.0,>=2.0.0->cohere) (2.2.3)\n",
      "Requirement already satisfied: huggingface-hub<1.0,>=0.16.4 in c:\\vishal\\projects\\python\\q-a-bot\\myenv\\lib\\site-packages (from tokenizers<1,>=0.15->cohere) (0.25.1)\n",
      "Requirement already satisfied: python-dateutil<3.0.0,>=2.1 in c:\\vishal\\projects\\python\\q-a-bot\\myenv\\lib\\site-packages (from botocore<1.36.0,>=1.35.25->boto3<2.0.0,>=1.34.0->cohere) (2.9.0.post0)\n",
      "Requirement already satisfied: filelock in c:\\vishal\\projects\\python\\q-a-bot\\myenv\\lib\\site-packages (from huggingface-hub<1.0,>=0.16.4->tokenizers<1,>=0.15->cohere) (3.16.1)\n",
      "Requirement already satisfied: fsspec>=2023.5.0 in c:\\vishal\\projects\\python\\q-a-bot\\myenv\\lib\\site-packages (from huggingface-hub<1.0,>=0.16.4->tokenizers<1,>=0.15->cohere) (2024.9.0)\n",
      "Requirement already satisfied: packaging>=20.9 in c:\\vishal\\projects\\python\\q-a-bot\\myenv\\lib\\site-packages (from huggingface-hub<1.0,>=0.16.4->tokenizers<1,>=0.15->cohere) (24.1)\n",
      "Requirement already satisfied: pyyaml>=5.1 in c:\\vishal\\projects\\python\\q-a-bot\\myenv\\lib\\site-packages (from huggingface-hub<1.0,>=0.16.4->tokenizers<1,>=0.15->cohere) (6.0.2)\n",
      "Requirement already satisfied: tqdm>=4.42.1 in c:\\vishal\\projects\\python\\q-a-bot\\myenv\\lib\\site-packages (from huggingface-hub<1.0,>=0.16.4->tokenizers<1,>=0.15->cohere) (4.66.5)\n",
      "Requirement already satisfied: six>=1.5 in c:\\vishal\\projects\\python\\q-a-bot\\myenv\\lib\\site-packages (from python-dateutil<3.0.0,>=2.1->botocore<1.36.0,>=1.35.25->boto3<2.0.0,>=1.34.0->cohere) (1.16.0)\n",
      "Requirement already satisfied: colorama in c:\\vishal\\projects\\python\\q-a-bot\\myenv\\lib\\site-packages (from tqdm>=4.42.1->huggingface-hub<1.0,>=0.16.4->tokenizers<1,>=0.15->cohere) (0.4.6)\n",
      "Note: you may need to restart the kernel to use updated packages.\n"
     ]
    },
    {
     "name": "stderr",
     "output_type": "stream",
     "text": [
      "\n",
      "[notice] A new release of pip is available: 23.2.1 -> 24.2\n",
      "[notice] To update, run: python.exe -m pip install --upgrade pip\n"
     ]
    },
    {
     "name": "stdout",
     "output_type": "stream",
     "text": [
      "Requirement already satisfied: streamlit in c:\\vishal\\projects\\python\\q-a-bot\\myenv\\lib\\site-packages (1.38.0)\n",
      "Requirement already satisfied: altair<6,>=4.0 in c:\\vishal\\projects\\python\\q-a-bot\\myenv\\lib\\site-packages (from streamlit) (5.4.1)\n",
      "Requirement already satisfied: blinker<2,>=1.0.0 in c:\\vishal\\projects\\python\\q-a-bot\\myenv\\lib\\site-packages (from streamlit) (1.8.2)\n",
      "Requirement already satisfied: cachetools<6,>=4.0 in c:\\vishal\\projects\\python\\q-a-bot\\myenv\\lib\\site-packages (from streamlit) (5.5.0)\n",
      "Requirement already satisfied: click<9,>=7.0 in c:\\vishal\\projects\\python\\q-a-bot\\myenv\\lib\\site-packages (from streamlit) (8.1.7)\n",
      "Requirement already satisfied: numpy<3,>=1.20 in c:\\vishal\\projects\\python\\q-a-bot\\myenv\\lib\\site-packages (from streamlit) (1.26.4)\n",
      "Requirement already satisfied: packaging<25,>=20 in c:\\vishal\\projects\\python\\q-a-bot\\myenv\\lib\\site-packages (from streamlit) (24.1)\n",
      "Requirement already satisfied: pandas<3,>=1.3.0 in c:\\vishal\\projects\\python\\q-a-bot\\myenv\\lib\\site-packages (from streamlit) (2.2.3)\n",
      "Requirement already satisfied: pillow<11,>=7.1.0 in c:\\vishal\\projects\\python\\q-a-bot\\myenv\\lib\\site-packages (from streamlit) (10.4.0)\n",
      "Requirement already satisfied: protobuf<6,>=3.20 in c:\\vishal\\projects\\python\\q-a-bot\\myenv\\lib\\site-packages (from streamlit) (4.25.5)\n",
      "Requirement already satisfied: pyarrow>=7.0 in c:\\vishal\\projects\\python\\q-a-bot\\myenv\\lib\\site-packages (from streamlit) (17.0.0)\n",
      "Requirement already satisfied: requests<3,>=2.27 in c:\\vishal\\projects\\python\\q-a-bot\\myenv\\lib\\site-packages (from streamlit) (2.32.3)\n",
      "Requirement already satisfied: rich<14,>=10.14.0 in c:\\vishal\\projects\\python\\q-a-bot\\myenv\\lib\\site-packages (from streamlit) (13.8.1)\n",
      "Requirement already satisfied: tenacity<9,>=8.1.0 in c:\\vishal\\projects\\python\\q-a-bot\\myenv\\lib\\site-packages (from streamlit) (8.5.0)\n",
      "Requirement already satisfied: toml<2,>=0.10.1 in c:\\vishal\\projects\\python\\q-a-bot\\myenv\\lib\\site-packages (from streamlit) (0.10.2)\n",
      "Requirement already satisfied: typing-extensions<5,>=4.3.0 in c:\\vishal\\projects\\python\\q-a-bot\\myenv\\lib\\site-packages (from streamlit) (4.12.2)\n",
      "Requirement already satisfied: gitpython!=3.1.19,<4,>=3.0.7 in c:\\vishal\\projects\\python\\q-a-bot\\myenv\\lib\\site-packages (from streamlit) (3.1.43)\n",
      "Requirement already satisfied: pydeck<1,>=0.8.0b4 in c:\\vishal\\projects\\python\\q-a-bot\\myenv\\lib\\site-packages (from streamlit) (0.9.1)\n",
      "Requirement already satisfied: tornado<7,>=6.0.3 in c:\\vishal\\projects\\python\\q-a-bot\\myenv\\lib\\site-packages (from streamlit) (6.4.1)\n",
      "Requirement already satisfied: watchdog<5,>=2.1.5 in c:\\vishal\\projects\\python\\q-a-bot\\myenv\\lib\\site-packages (from streamlit) (4.0.2)\n",
      "Requirement already satisfied: jinja2 in c:\\vishal\\projects\\python\\q-a-bot\\myenv\\lib\\site-packages (from altair<6,>=4.0->streamlit) (3.1.4)\n",
      "Requirement already satisfied: jsonschema>=3.0 in c:\\vishal\\projects\\python\\q-a-bot\\myenv\\lib\\site-packages (from altair<6,>=4.0->streamlit) (4.23.0)\n",
      "Requirement already satisfied: narwhals>=1.5.2 in c:\\vishal\\projects\\python\\q-a-bot\\myenv\\lib\\site-packages (from altair<6,>=4.0->streamlit) (1.8.3)\n",
      "Requirement already satisfied: colorama in c:\\vishal\\projects\\python\\q-a-bot\\myenv\\lib\\site-packages (from click<9,>=7.0->streamlit) (0.4.6)\n",
      "Requirement already satisfied: gitdb<5,>=4.0.1 in c:\\vishal\\projects\\python\\q-a-bot\\myenv\\lib\\site-packages (from gitpython!=3.1.19,<4,>=3.0.7->streamlit) (4.0.11)\n",
      "Requirement already satisfied: python-dateutil>=2.8.2 in c:\\vishal\\projects\\python\\q-a-bot\\myenv\\lib\\site-packages (from pandas<3,>=1.3.0->streamlit) (2.9.0.post0)\n",
      "Requirement already satisfied: pytz>=2020.1 in c:\\vishal\\projects\\python\\q-a-bot\\myenv\\lib\\site-packages (from pandas<3,>=1.3.0->streamlit) (2024.2)\n",
      "Requirement already satisfied: tzdata>=2022.7 in c:\\vishal\\projects\\python\\q-a-bot\\myenv\\lib\\site-packages (from pandas<3,>=1.3.0->streamlit) (2024.2)\n",
      "Requirement already satisfied: charset-normalizer<4,>=2 in c:\\vishal\\projects\\python\\q-a-bot\\myenv\\lib\\site-packages (from requests<3,>=2.27->streamlit) (3.3.2)\n",
      "Requirement already satisfied: idna<4,>=2.5 in c:\\vishal\\projects\\python\\q-a-bot\\myenv\\lib\\site-packages (from requests<3,>=2.27->streamlit) (3.10)\n",
      "Requirement already satisfied: urllib3<3,>=1.21.1 in c:\\vishal\\projects\\python\\q-a-bot\\myenv\\lib\\site-packages (from requests<3,>=2.27->streamlit) (2.2.3)\n",
      "Requirement already satisfied: certifi>=2017.4.17 in c:\\vishal\\projects\\python\\q-a-bot\\myenv\\lib\\site-packages (from requests<3,>=2.27->streamlit) (2024.8.30)\n",
      "Requirement already satisfied: markdown-it-py>=2.2.0 in c:\\vishal\\projects\\python\\q-a-bot\\myenv\\lib\\site-packages (from rich<14,>=10.14.0->streamlit) (3.0.0)\n",
      "Requirement already satisfied: pygments<3.0.0,>=2.13.0 in c:\\vishal\\projects\\python\\q-a-bot\\myenv\\lib\\site-packages (from rich<14,>=10.14.0->streamlit) (2.18.0)\n",
      "Requirement already satisfied: smmap<6,>=3.0.1 in c:\\vishal\\projects\\python\\q-a-bot\\myenv\\lib\\site-packages (from gitdb<5,>=4.0.1->gitpython!=3.1.19,<4,>=3.0.7->streamlit) (5.0.1)\n",
      "Requirement already satisfied: MarkupSafe>=2.0 in c:\\vishal\\projects\\python\\q-a-bot\\myenv\\lib\\site-packages (from jinja2->altair<6,>=4.0->streamlit) (2.1.5)\n",
      "Requirement already satisfied: attrs>=22.2.0 in c:\\vishal\\projects\\python\\q-a-bot\\myenv\\lib\\site-packages (from jsonschema>=3.0->altair<6,>=4.0->streamlit) (24.2.0)\n",
      "Requirement already satisfied: jsonschema-specifications>=2023.03.6 in c:\\vishal\\projects\\python\\q-a-bot\\myenv\\lib\\site-packages (from jsonschema>=3.0->altair<6,>=4.0->streamlit) (2023.12.1)\n",
      "Requirement already satisfied: referencing>=0.28.4 in c:\\vishal\\projects\\python\\q-a-bot\\myenv\\lib\\site-packages (from jsonschema>=3.0->altair<6,>=4.0->streamlit) (0.35.1)\n",
      "Requirement already satisfied: rpds-py>=0.7.1 in c:\\vishal\\projects\\python\\q-a-bot\\myenv\\lib\\site-packages (from jsonschema>=3.0->altair<6,>=4.0->streamlit) (0.20.0)\n",
      "Requirement already satisfied: mdurl~=0.1 in c:\\vishal\\projects\\python\\q-a-bot\\myenv\\lib\\site-packages (from markdown-it-py>=2.2.0->rich<14,>=10.14.0->streamlit) (0.1.2)\n",
      "Requirement already satisfied: six>=1.5 in c:\\vishal\\projects\\python\\q-a-bot\\myenv\\lib\\site-packages (from python-dateutil>=2.8.2->pandas<3,>=1.3.0->streamlit) (1.16.0)\n",
      "Note: you may need to restart the kernel to use updated packages.\n"
     ]
    },
    {
     "name": "stderr",
     "output_type": "stream",
     "text": [
      "\n",
      "[notice] A new release of pip is available: 23.2.1 -> 24.2\n",
      "[notice] To update, run: python.exe -m pip install --upgrade pip\n"
     ]
    }
   ],
   "source": [
    "%pip install python-docx\n",
    "%pip install python-pptx\n",
    "%pip install PyPDF2\n",
    "%pip install langchain\n",
    "%pip install langchain_community\n",
    "%pip install langchain_google_genai\n",
    "%pip install langchain_text_splitters\n",
    "%pip install sentence-transformers\n",
    "%pip install faiss-cpu\n",
    "%pip install cohere\n",
    "%pip install streamlit"
   ]
  },
  {
   "cell_type": "code",
   "execution_count": 3,
   "metadata": {},
   "outputs": [],
   "source": [
    "from PyPDF2 import PdfReader"
   ]
  },
  {
   "cell_type": "code",
   "execution_count": 5,
   "metadata": {},
   "outputs": [],
   "source": [
    "pdf_file = open(r'C:\\vishal\\projects\\Python\\Q-A-Bot\\Vishal_resume.pdf','rb')"
   ]
  },
  {
   "cell_type": "code",
   "execution_count": 6,
   "metadata": {},
   "outputs": [],
   "source": [
    "pdf_reader = PdfReader(pdf_file)\n"
   ]
  },
  {
   "cell_type": "markdown",
   "metadata": {},
   "source": [
    "Extracting text from each page"
   ]
  },
  {
   "cell_type": "code",
   "execution_count": 7,
   "metadata": {},
   "outputs": [],
   "source": [
    "pdf_text = \"\"\n",
    "for page in pdf_reader.pages:\n",
    "    pdf_text += page.extract_text()\n"
   ]
  },
  {
   "cell_type": "code",
   "execution_count": 8,
   "metadata": {},
   "outputs": [
    {
     "name": "stdout",
     "output_type": "stream",
     "text": [
      "VISHAL \n",
      "+91-9816290993 | vishaal03.it@gmail.com | www.linkedin.com/in/vishal-datascience  | https://github.com/VISHAL-038   \n",
      " \n",
      "PROFILE SUMMARY \n",
      "Driven aspiring Data Science Engineer  with a passion for tackling real-world problems through technical skills. \n",
      "Pursuing a B.Tech in Computer Science and Engineering (graduation 2025) at Rayat Bahra University. Proficient in \n",
      "data analysis, machine learning, and software development. Seeking a data science internship to gain hands-on \n",
      "experience and contribute to innovative projects. \n",
      "EDUCATION \n",
      " B.Tech - Computer Science Engineering        (June 2021 - June 2025)  \n",
      "o Rayat Bahra University, Punjab  \n",
      " Professional Certificates  \n",
      " IBM Data Science Professional Certificate \n",
      " Machine Learning and Deep Learning – Fundamentals and Applications(NPTEL) \n",
      " Full Stack Development Program (Excellence Education) \n",
      " Full Stack Web Development (MCP Technology) \n",
      "PROJECTS \n",
      " Resume Categorizer \n",
      "o Developed an NLP-based machine learning model  to classify resumes into categories such as \n",
      "Software Engineer , Data Scientist , and Marketing , using TF-IDF vectorization  and label encoding . \n",
      "o Applied text preprocessing techniques  to clean resume data by removing stopwords and special \n",
      "characters.  \n",
      "o Improved recruitment efficiency by automating the resume filtering process with accurate \n",
      "classification models.  \n",
      " Spam Comment Detection \n",
      "o Created a machine learning model  for spam comment detection using NLP techniques  like \n",
      "tokenization , stopword removal , and TF-IDF vectorization . \n",
      "o Implemented a  Logistic Regression model for classification, with options for  Naïve Bayes and \n",
      "Random Forest for enhanced peformance  \n",
      "o Achieved high accuracy in spam detection, improving content moderation..  \n",
      "o Achieved high accuracy in detecting spam comments, enhancing content moderation efficiency.  \n",
      " Credit Card Fraud Detection \n",
      "o Built a machine learning model to identify fraudulent transactions using imbalanced datasets , \n",
      "applying techniques like SMOTE and undersampling  to balance classes.  \n",
      "o Trained and evaluated models, including Logistic Regression  and Random Forest , with metrics such \n",
      "as Precision , Recall, F1-Score, and AUC-ROC . \n",
      "o Improved fraud detection by using feature scaling , correlation analysis , and cross-validation  for \n",
      "model optimization.  \n",
      " Student Management System \n",
      "o Designed and developed a scalable backend system for managing student information using Python \n",
      "and MySQL. \n",
      "o Created a robust database solution with efficient data retrieval  and manipulation techniques  to \n",
      "optimize system performance. \n",
      " \n",
      "SKILLS \n",
      " Programming Languages and Tools:  Python, Git \n",
      " Data Science & Machine Learning:  Pandas, Scikit-learn, Seaborn, Matplotlib, NumPy \n",
      " Databases : MySQL, MongoDB \n",
      " Data Analysis and Engineering : Data Analysis, Data Cleaning, Feature Engineering, Model Evaluation, \n",
      "Machine Learning Algorithms  \n"
     ]
    }
   ],
   "source": [
    "print(pdf_text)\n"
   ]
  },
  {
   "cell_type": "markdown",
   "metadata": {},
   "source": [
    "Text Splitter\n",
    "- used to split a long text document into smaller, more manageable chunks"
   ]
  },
  {
   "cell_type": "code",
   "execution_count": 9,
   "metadata": {},
   "outputs": [],
   "source": [
    "from langchain_text_splitters import RecursiveCharacterTextSplitter\n"
   ]
  },
  {
   "cell_type": "code",
   "execution_count": 10,
   "metadata": {},
   "outputs": [],
   "source": [
    "text_splitter = RecursiveCharacterTextSplitter(\n",
    "    chunk_size = 1000, \n",
    "    chunk_overlap = 200, \n",
    "    length_function = len,\n",
    "    separators=['\\n\\n', ' ', '']\n",
    ")"
   ]
  },
  {
   "cell_type": "code",
   "execution_count": 11,
   "metadata": {},
   "outputs": [],
   "source": [
    "chunks = text_splitter.split_text(text = pdf_text)"
   ]
  },
  {
   "cell_type": "code",
   "execution_count": 12,
   "metadata": {},
   "outputs": [
    {
     "data": {
      "text/plain": [
       "['VISHAL \\n+91-9816290993 | vishaal03.it@gmail.com | www.linkedin.com/in/vishal-datascience  | https://github.com/VISHAL-038   \\n \\nPROFILE SUMMARY \\nDriven aspiring Data Science Engineer  with a passion for tackling real-world problems through technical skills. \\nPursuing a B.Tech in Computer Science and Engineering (graduation 2025) at Rayat Bahra University. Proficient in \\ndata analysis, machine learning, and software development. Seeking a data science internship to gain hands-on \\nexperience and contribute to innovative projects. \\nEDUCATION \\n\\uf0b7 B.Tech - Computer Science Engineering        (June 2021 - June 2025)  \\no Rayat Bahra University, Punjab  \\n\\uf0b7 Professional Certificates  \\n\\uf0a7 IBM Data Science Professional Certificate \\n\\uf0a7 Machine Learning and Deep Learning – Fundamentals and Applications(NPTEL) \\n\\uf0a7 Full Stack Development Program (Excellence Education) \\n\\uf0a7 Full Stack Web Development (MCP Technology) \\nPROJECTS \\n\\uf0b7 Resume Categorizer \\no Developed an NLP-based machine learning model  to',\n",
       " '\\uf0a7 Full Stack Development Program (Excellence Education) \\n\\uf0a7 Full Stack Web Development (MCP Technology) \\nPROJECTS \\n\\uf0b7 Resume Categorizer \\no Developed an NLP-based machine learning model  to classify resumes into categories such as \\nSoftware Engineer , Data Scientist , and Marketing , using TF-IDF vectorization  and label encoding . \\no Applied text preprocessing techniques  to clean resume data by removing stopwords and special \\ncharacters.  \\no Improved recruitment efficiency by automating the resume filtering process with accurate \\nclassification models.  \\n\\uf0b7 Spam Comment Detection \\no Created a machine learning model  for spam comment detection using NLP techniques  like \\ntokenization , stopword removal , and TF-IDF vectorization . \\no Implemented a  Logistic Regression model for classification, with options for  Naïve Bayes and \\nRandom Forest for enhanced peformance  \\no Achieved high accuracy in spam detection, improving content moderation..  \\no Achieved high accuracy in detecting spam',\n",
       " 'with options for  Naïve Bayes and \\nRandom Forest for enhanced peformance  \\no Achieved high accuracy in spam detection, improving content moderation..  \\no Achieved high accuracy in detecting spam comments, enhancing content moderation efficiency.  \\n\\uf0b7 Credit Card Fraud Detection \\no Built a machine learning model to identify fraudulent transactions using imbalanced datasets , \\napplying techniques like SMOTE and undersampling  to balance classes.  \\no Trained and evaluated models, including Logistic Regression  and Random Forest , with metrics such \\nas Precision , Recall, F1-Score, and AUC-ROC . \\no Improved fraud detection by using feature scaling , correlation analysis , and cross-validation  for \\nmodel optimization.  \\n\\uf0b7 Student Management System \\no Designed and developed a scalable backend system for managing student information using Python \\nand MySQL. \\no Created a robust database solution with efficient data retrieval  and manipulation techniques  to \\noptimize system performance.',\n",
       " 'system for managing student information using Python \\nand MySQL. \\no Created a robust database solution with efficient data retrieval  and manipulation techniques  to \\noptimize system performance. \\n \\nSKILLS \\n\\uf0b7 Programming Languages and Tools:  Python, Git \\n\\uf0b7 Data Science & Machine Learning:  Pandas, Scikit-learn, Seaborn, Matplotlib, NumPy \\n\\uf0b7 Databases : MySQL, MongoDB \\n\\uf0b7 Data Analysis and Engineering : Data Analysis, Data Cleaning, Feature Engineering, Model Evaluation, \\nMachine Learning Algorithms']"
      ]
     },
     "execution_count": 12,
     "metadata": {},
     "output_type": "execute_result"
    }
   ],
   "source": [
    "chunks"
   ]
  },
  {
   "cell_type": "code",
   "execution_count": 13,
   "metadata": {},
   "outputs": [
    {
     "data": {
      "text/plain": [
       "4"
      ]
     },
     "execution_count": 13,
     "metadata": {},
     "output_type": "execute_result"
    }
   ],
   "source": [
    "len(chunks)"
   ]
  },
  {
   "cell_type": "markdown",
   "metadata": {},
   "source": [
    "a model to generate embeddings(numerical representation)"
   ]
  },
  {
   "cell_type": "code",
   "execution_count": 14,
   "metadata": {},
   "outputs": [
    {
     "name": "stderr",
     "output_type": "stream",
     "text": [
      "c:\\vishal\\projects\\Python\\Q-A-Bot\\myenv\\Lib\\site-packages\\pydantic\\_internal\\_fields.py:132: UserWarning: Field \"model_name\" in HuggingFaceInferenceAPIEmbeddings has conflict with protected namespace \"model_\".\n",
      "\n",
      "You may be able to resolve this warning by setting `model_config['protected_namespaces'] = ()`.\n",
      "  warnings.warn(\n",
      "C:\\Users\\Dell\\AppData\\Local\\Temp\\ipykernel_3324\\3239463429.py:5: LangChainDeprecationWarning: The class `HuggingFaceEmbeddings` was deprecated in LangChain 0.2.2 and will be removed in 1.0. An updated version of the class exists in the :class:`~langchain-huggingface package and should be used instead. To use it run `pip install -U :class:`~langchain-huggingface` and import as `from :class:`~langchain_huggingface import HuggingFaceEmbeddings``.\n",
      "  embeddings = HuggingFaceEmbeddings(model_name='sentence-transformers/all-MiniLM-L6-v2')\n",
      "c:\\vishal\\projects\\Python\\Q-A-Bot\\myenv\\Lib\\site-packages\\sentence_transformers\\cross_encoder\\CrossEncoder.py:13: TqdmWarning: IProgress not found. Please update jupyter and ipywidgets. See https://ipywidgets.readthedocs.io/en/stable/user_install.html\n",
      "  from tqdm.autonotebook import tqdm, trange\n",
      "c:\\vishal\\projects\\Python\\Q-A-Bot\\myenv\\Lib\\site-packages\\transformers\\tokenization_utils_base.py:1601: FutureWarning: `clean_up_tokenization_spaces` was not set. It will be set to `True` by default. This behavior will be depracted in transformers v4.45, and will be then set to `False` by default. For more details check this issue: https://github.com/huggingface/transformers/issues/31884\n",
      "  warnings.warn(\n"
     ]
    }
   ],
   "source": [
    "from langchain.embeddings import HuggingFaceEmbeddings\n",
    "\n",
    "# Initializing embeddings model\n",
    "\n",
    "embeddings = HuggingFaceEmbeddings(model_name='sentence-transformers/all-MiniLM-L6-v2')"
   ]
  },
  {
   "cell_type": "markdown",
   "metadata": {},
   "source": [
    "creating a vector store using the FAISS (Facebook AI Similarity Search) library and then setting up a retriever to find similar chunks of text based on embeddings"
   ]
  },
  {
   "cell_type": "code",
   "execution_count": 15,
   "metadata": {},
   "outputs": [],
   "source": [
    "from langchain_community.vectorstores import FAISS\n",
    "\n",
    "# Indexing the data using FAISS\n",
    "vectorstore = FAISS.from_texts(chunks, embedding = embeddings)"
   ]
  },
  {
   "cell_type": "code",
   "execution_count": 16,
   "metadata": {},
   "outputs": [],
   "source": [
    "# creating retriever\n",
    "retriever = vectorstore.as_retriever(search_type=\"similarity\", search_kwargs={\"k\": 2})"
   ]
  },
  {
   "cell_type": "code",
   "execution_count": 17,
   "metadata": {},
   "outputs": [
    {
     "data": {
      "text/plain": [
       "<langchain_community.vectorstores.faiss.FAISS at 0x1adcc2608f0>"
      ]
     },
     "execution_count": 17,
     "metadata": {},
     "output_type": "execute_result"
    }
   ],
   "source": [
    "vectorstore"
   ]
  },
  {
   "cell_type": "code",
   "execution_count": 18,
   "metadata": {},
   "outputs": [
    {
     "data": {
      "text/plain": [
       "VectorStoreRetriever(tags=['FAISS', 'HuggingFaceEmbeddings'], vectorstore=<langchain_community.vectorstores.faiss.FAISS object at 0x000001ADCC2608F0>, search_kwargs={'k': 2})"
      ]
     },
     "execution_count": 18,
     "metadata": {},
     "output_type": "execute_result"
    }
   ],
   "source": [
    "retriever"
   ]
  },
  {
   "cell_type": "code",
   "execution_count": 19,
   "metadata": {},
   "outputs": [],
   "source": [
    "retrieved_docs = retriever.invoke(\"What is the name of the college?\")"
   ]
  },
  {
   "cell_type": "code",
   "execution_count": 20,
   "metadata": {},
   "outputs": [
    {
     "data": {
      "text/plain": [
       "[Document(metadata={}, page_content='system for managing student information using Python \\nand MySQL. \\no Created a robust database solution with efficient data retrieval  and manipulation techniques  to \\noptimize system performance. \\n \\nSKILLS \\n\\uf0b7 Programming Languages and Tools:  Python, Git \\n\\uf0b7 Data Science & Machine Learning:  Pandas, Scikit-learn, Seaborn, Matplotlib, NumPy \\n\\uf0b7 Databases : MySQL, MongoDB \\n\\uf0b7 Data Analysis and Engineering : Data Analysis, Data Cleaning, Feature Engineering, Model Evaluation, \\nMachine Learning Algorithms'),\n",
       " Document(metadata={}, page_content='with options for  Naïve Bayes and \\nRandom Forest for enhanced peformance  \\no Achieved high accuracy in spam detection, improving content moderation..  \\no Achieved high accuracy in detecting spam comments, enhancing content moderation efficiency.  \\n\\uf0b7 Credit Card Fraud Detection \\no Built a machine learning model to identify fraudulent transactions using imbalanced datasets , \\napplying techniques like SMOTE and undersampling  to balance classes.  \\no Trained and evaluated models, including Logistic Regression  and Random Forest , with metrics such \\nas Precision , Recall, F1-Score, and AUC-ROC . \\no Improved fraud detection by using feature scaling , correlation analysis , and cross-validation  for \\nmodel optimization.  \\n\\uf0b7 Student Management System \\no Designed and developed a scalable backend system for managing student information using Python \\nand MySQL. \\no Created a robust database solution with efficient data retrieval  and manipulation techniques  to \\noptimize system performance.')]"
      ]
     },
     "execution_count": 20,
     "metadata": {},
     "output_type": "execute_result"
    }
   ],
   "source": [
    "retrieved_docs"
   ]
  },
  {
   "cell_type": "code",
   "execution_count": 21,
   "metadata": {},
   "outputs": [
    {
     "name": "stdout",
     "output_type": "stream",
     "text": [
      "system for managing student information using Python \n",
      "and MySQL. \n",
      "o Created a robust database solution with efficient data retrieval  and manipulation techniques  to \n",
      "optimize system performance. \n",
      " \n",
      "SKILLS \n",
      " Programming Languages and Tools:  Python, Git \n",
      " Data Science & Machine Learning:  Pandas, Scikit-learn, Seaborn, Matplotlib, NumPy \n",
      " Databases : MySQL, MongoDB \n",
      " Data Analysis and Engineering : Data Analysis, Data Cleaning, Feature Engineering, Model Evaluation, \n",
      "Machine Learning Algorithms\n"
     ]
    }
   ],
   "source": [
    "print(retrieved_docs[0].page_content)"
   ]
  },
  {
   "cell_type": "markdown",
   "metadata": {},
   "source": [
    " constructing a PromptTemplate object, which is used in language model applications to create structured prompts"
   ]
  },
  {
   "cell_type": "code",
   "execution_count": 22,
   "metadata": {},
   "outputs": [],
   "source": [
    "from langchain_core.prompts  import PromptTemplate, ChatPromptTemplate, MessagesPlaceholder\n",
    "\n",
    "prompt_template = \"\"\"Answer the question as precise as possible using the provided context. If the answer is\n",
    "                not contained in the context, say \"answer not available in context\" \\n\\n\n",
    "                Context: \\n {context}?\\n\n",
    "                Question: \\n {question} \\n\n",
    "                Answer:\"\"\"\n",
    "\n",
    "prompt = PromptTemplate.from_template(template=prompt_template)"
   ]
  },
  {
   "cell_type": "code",
   "execution_count": 23,
   "metadata": {},
   "outputs": [
    {
     "data": {
      "text/plain": [
       "PromptTemplate(input_variables=['context', 'question'], input_types={}, partial_variables={}, template='Answer the question as precise as possible using the provided context. If the answer is\\n                not contained in the context, say \"answer not available in context\" \\n\\n\\n                Context: \\n {context}?\\n\\n                Question: \\n {question} \\n\\n                Answer:')"
      ]
     },
     "execution_count": 23,
     "metadata": {},
     "output_type": "execute_result"
    }
   ],
   "source": [
    "prompt"
   ]
  },
  {
   "cell_type": "code",
   "execution_count": 24,
   "metadata": {},
   "outputs": [],
   "source": [
    "# function to create a single string of relevant documents given by Faiss.\n",
    "def format_docs(docs):\n",
    "    return \"\\n\\n\".join(doc.page_content for doc in docs)"
   ]
  },
  {
   "cell_type": "code",
   "execution_count": 25,
   "metadata": {},
   "outputs": [],
   "source": [
    "import os\n",
    "from dotenv import load_dotenv\n",
    "from langchain_community.llms import Cohere\n",
    "from langchain_core.runnables import RunnablePassthrough\n",
    "from langchain_core.output_parsers import StrOutputParser\n",
    "load_dotenv()\n",
    "# RAG Chain\n",
    "\n",
    "def generate_answer(question):\n",
    "    cohere_llm = Cohere(model=\"command\", temperature=0.1, cohere_api_key = os.getenv('COHERE_API_KEY'))\n",
    "    \n",
    "    rag_chain = (\n",
    "        {\"context\": retriever | format_docs, \"question\": RunnablePassthrough()}\n",
    "        | prompt\n",
    "        | cohere_llm\n",
    "        | StrOutputParser()\n",
    "    )\n",
    "    \n",
    "    return rag_chain.invoke(question)"
   ]
  },
  {
   "cell_type": "code",
   "execution_count": 26,
   "metadata": {},
   "outputs": [
    {
     "name": "stderr",
     "output_type": "stream",
     "text": [
      "C:\\Users\\Dell\\AppData\\Local\\Temp\\ipykernel_3324\\650600176.py:10: LangChainDeprecationWarning: The class `Cohere` was deprecated in LangChain 0.1.14 and will be removed in 1.0. An updated version of the class exists in the :class:`~langchain-cohere package and should be used instead. To use it run `pip install -U :class:`~langchain-cohere` and import as `from :class:`~langchain_cohere import Cohere``.\n",
      "  cohere_llm = Cohere(model=\"command\", temperature=0.1, cohere_api_key = os.getenv('COHERE_API_KEY'))\n"
     ]
    },
    {
     "name": "stdout",
     "output_type": "stream",
     "text": [
      " The answer is not explicitly provided in the context. However, the skills section of the provided context shows the following skills:\n",
      "\n",
      "- Programming Languages and Tools: Python, Git\n",
      "- Data Science & Machine Learning: Pandas, Scikit-learn, Seaborn, Matplotlib, NumPy\n",
      "- Databases: MySQL, MongoDB\n",
      "- Data Analysis and Engineering: Data Analysis, Data Cleaning, Feature Engineering, Model Evaluation, Machine Learning Algorithms\n",
      "\n",
      "These are the skills that are relevant to the creation of the system for managing student information. \n"
     ]
    }
   ],
   "source": [
    "ans = generate_answer(\"what are the skills?\")\n",
    "print(ans)"
   ]
  },
  {
   "cell_type": "code",
   "execution_count": 27,
   "metadata": {},
   "outputs": [
    {
     "name": "stdout",
     "output_type": "stream",
     "text": [
      " The context does not provide detailed information on all the projects that Vishal has completed. However, \n",
      "it does specify the following project titled \"Resume Categorizer\": \n",
      "\n",
      "o Developed an NLP-based machine learning model  to\n",
      "\n",
      "system for managing student information using Python \n",
      "and MySQL. \n",
      "o Created a robust database solution with efficient data retrieval  and manipulation techniques  to \n",
      "optimize system performance. \n",
      "\n",
      "The project aims to develop an efficient system to categorize resumes using NLP and machine learning techniques, \n",
      "and to create a robust database solution for optimized data management. \n",
      "\n",
      "Hope this helps! Let me know if you would like to know more about data science projects or other relevant information \n",
      "contained in the provided context. \n",
      "If you would like to know more about Vishal's projects in specific, answer not available in context. \n"
     ]
    }
   ],
   "source": [
    "ans = generate_answer(\"what are the Projects?\")\n",
    "print(ans)"
   ]
  },
  {
   "cell_type": "code",
   "execution_count": 28,
   "metadata": {},
   "outputs": [
    {
     "name": "stdout",
     "output_type": "stream",
     "text": [
      " Vishaal's qualifications include a B.Tech in Computer Science and Engineering, which they are currently pursuing at Rayat Bahra University, and the completion of several professional certificates in data science and machine learning. They are actively seeking a data science internship to gain hands-on experience and contribute to innovative projects. \n",
      "\n",
      "Please note that the provided information may be out of date. \n"
     ]
    }
   ],
   "source": [
    "ans = generate_answer(\"what are the Qualifications?\")\n",
    "print(ans)"
   ]
  }
 ],
 "metadata": {
  "kernelspec": {
   "display_name": "myenv",
   "language": "python",
   "name": "python3"
  },
  "language_info": {
   "codemirror_mode": {
    "name": "ipython",
    "version": 3
   },
   "file_extension": ".py",
   "mimetype": "text/x-python",
   "name": "python",
   "nbconvert_exporter": "python",
   "pygments_lexer": "ipython3",
   "version": "3.12.1"
  }
 },
 "nbformat": 4,
 "nbformat_minor": 2
}
